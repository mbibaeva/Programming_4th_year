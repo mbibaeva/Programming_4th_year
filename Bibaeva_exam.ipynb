{
 "cells": [
  {
   "cell_type": "markdown",
   "metadata": {},
   "source": [
    "Task: Sentiment analysis of amazon reviews\n",
    "\n",
    "Columns description:\n",
    "\n",
    "    label = good or bad - you have to predict that for test dataset\n",
    "    title = review title\n",
    "    content = review content\n",
    "\n",
    "Most of the reviews are in English, but there are a few in other languages.\n",
    "\n",
    "Metric: accuracy\n",
    "baseline: 0.8721\n"
   ]
  },
  {
   "cell_type": "code",
   "execution_count": 44,
   "metadata": {},
   "outputs": [],
   "source": [
    "import numpy as np\n",
    "import pandas as pd\n",
    "from sklearn.model_selection import train_test_split, GridSearchCV\n",
    "from sklearn.preprocessing import LabelEncoder\n",
    "from sklearn import metrics\n",
    "from sklearn.pipeline import Pipeline\n",
    "from sklearn.feature_extraction.text import TfidfVectorizer\n",
    "from nltk.corpus import stopwords\n",
    "from sklearn.svm import LinearSVC\n",
    "from sklearn.model_selection import GridSearchCV\n",
    "\n",
    "import matplotlib.pyplot as plt\n",
    "import seaborn as sns\n",
    "\n",
    "%matplotlib inline\n",
    "\n",
    "SEED = 1337"
   ]
  },
  {
   "cell_type": "markdown",
   "metadata": {},
   "source": [
    "Подготовка train"
   ]
  },
  {
   "cell_type": "code",
   "execution_count": 45,
   "metadata": {},
   "outputs": [
    {
     "data": {
      "text/html": [
       "<div>\n",
       "<style>\n",
       "    .dataframe thead tr:only-child th {\n",
       "        text-align: right;\n",
       "    }\n",
       "\n",
       "    .dataframe thead th {\n",
       "        text-align: left;\n",
       "    }\n",
       "\n",
       "    .dataframe tbody tr th {\n",
       "        vertical-align: top;\n",
       "    }\n",
       "</style>\n",
       "<table border=\"1\" class=\"dataframe\">\n",
       "  <thead>\n",
       "    <tr style=\"text-align: right;\">\n",
       "      <th></th>\n",
       "      <th>Unnamed: 0</th>\n",
       "      <th>content</th>\n",
       "      <th>label</th>\n",
       "      <th>title</th>\n",
       "    </tr>\n",
       "  </thead>\n",
       "  <tbody>\n",
       "    <tr>\n",
       "      <th>0</th>\n",
       "      <td>0</td>\n",
       "      <td>My Mother is the President of a Dallas book c...</td>\n",
       "      <td>good</td>\n",
       "      <td>OUTSTANDING!!!!!!!!</td>\n",
       "    </tr>\n",
       "    <tr>\n",
       "      <th>1</th>\n",
       "      <td>1</td>\n",
       "      <td>I have a 2 Year old boy and ever since he was...</td>\n",
       "      <td>bad</td>\n",
       "      <td>Pamper Baby Dry are more like Pamper baby wet!</td>\n",
       "    </tr>\n",
       "    <tr>\n",
       "      <th>2</th>\n",
       "      <td>2</td>\n",
       "      <td>I thought this movie was going to have an inc...</td>\n",
       "      <td>bad</td>\n",
       "      <td>Wow, what a letdown</td>\n",
       "    </tr>\n",
       "    <tr>\n",
       "      <th>3</th>\n",
       "      <td>3</td>\n",
       "      <td>THERE BEATS ARE DIFFERENT THAN NO LIMITS BUT ...</td>\n",
       "      <td>bad</td>\n",
       "      <td>CASH MONEY AND NO LIMIT ARE THA SAME THANG!</td>\n",
       "    </tr>\n",
       "    <tr>\n",
       "      <th>4</th>\n",
       "      <td>4</td>\n",
       "      <td>Tess, a naive and young girl whose one night ...</td>\n",
       "      <td>good</td>\n",
       "      <td>how tess' motherhood experience change her lif...</td>\n",
       "    </tr>\n",
       "  </tbody>\n",
       "</table>\n",
       "</div>"
      ],
      "text/plain": [
       "   Unnamed: 0                                            content label  \\\n",
       "0           0   My Mother is the President of a Dallas book c...  good   \n",
       "1           1   I have a 2 Year old boy and ever since he was...   bad   \n",
       "2           2   I thought this movie was going to have an inc...   bad   \n",
       "3           3   THERE BEATS ARE DIFFERENT THAN NO LIMITS BUT ...   bad   \n",
       "4           4   Tess, a naive and young girl whose one night ...  good   \n",
       "\n",
       "                                               title  \n",
       "0                                OUTSTANDING!!!!!!!!  \n",
       "1     Pamper Baby Dry are more like Pamper baby wet!  \n",
       "2                                Wow, what a letdown  \n",
       "3        CASH MONEY AND NO LIMIT ARE THA SAME THANG!  \n",
       "4  how tess' motherhood experience change her lif...  "
      ]
     },
     "execution_count": 45,
     "metadata": {},
     "output_type": "execute_result"
    }
   ],
   "source": [
    "df_train = pd.read_csv('./train.csv')\n",
    "df_train.head()"
   ]
  },
  {
   "cell_type": "code",
   "execution_count": 46,
   "metadata": {},
   "outputs": [
    {
     "data": {
      "text/plain": [
       "bad     0.512083\n",
       "good    0.487917\n",
       "Name: label, dtype: float64"
      ]
     },
     "execution_count": 46,
     "metadata": {},
     "output_type": "execute_result"
    }
   ],
   "source": [
    "df_train.label.value_counts(normalize=True)"
   ]
  },
  {
   "cell_type": "code",
   "execution_count": 47,
   "metadata": {},
   "outputs": [
    {
     "data": {
      "text/html": [
       "<div>\n",
       "<style>\n",
       "    .dataframe thead tr:only-child th {\n",
       "        text-align: right;\n",
       "    }\n",
       "\n",
       "    .dataframe thead th {\n",
       "        text-align: left;\n",
       "    }\n",
       "\n",
       "    .dataframe tbody tr th {\n",
       "        vertical-align: top;\n",
       "    }\n",
       "</style>\n",
       "<table border=\"1\" class=\"dataframe\">\n",
       "  <thead>\n",
       "    <tr style=\"text-align: right;\">\n",
       "      <th></th>\n",
       "      <th>Unnamed: 0</th>\n",
       "      <th>content</th>\n",
       "      <th>label</th>\n",
       "      <th>title</th>\n",
       "    </tr>\n",
       "  </thead>\n",
       "  <tbody>\n",
       "    <tr>\n",
       "      <th>0</th>\n",
       "      <td>0</td>\n",
       "      <td>My Mother is the President of a Dallas book c...</td>\n",
       "      <td>1</td>\n",
       "      <td>OUTSTANDING!!!!!!!!</td>\n",
       "    </tr>\n",
       "    <tr>\n",
       "      <th>1</th>\n",
       "      <td>1</td>\n",
       "      <td>I have a 2 Year old boy and ever since he was...</td>\n",
       "      <td>0</td>\n",
       "      <td>Pamper Baby Dry are more like Pamper baby wet!</td>\n",
       "    </tr>\n",
       "    <tr>\n",
       "      <th>2</th>\n",
       "      <td>2</td>\n",
       "      <td>I thought this movie was going to have an inc...</td>\n",
       "      <td>0</td>\n",
       "      <td>Wow, what a letdown</td>\n",
       "    </tr>\n",
       "    <tr>\n",
       "      <th>3</th>\n",
       "      <td>3</td>\n",
       "      <td>THERE BEATS ARE DIFFERENT THAN NO LIMITS BUT ...</td>\n",
       "      <td>0</td>\n",
       "      <td>CASH MONEY AND NO LIMIT ARE THA SAME THANG!</td>\n",
       "    </tr>\n",
       "    <tr>\n",
       "      <th>4</th>\n",
       "      <td>4</td>\n",
       "      <td>Tess, a naive and young girl whose one night ...</td>\n",
       "      <td>1</td>\n",
       "      <td>how tess' motherhood experience change her lif...</td>\n",
       "    </tr>\n",
       "  </tbody>\n",
       "</table>\n",
       "</div>"
      ],
      "text/plain": [
       "   Unnamed: 0                                            content label  \\\n",
       "0           0   My Mother is the President of a Dallas book c...     1   \n",
       "1           1   I have a 2 Year old boy and ever since he was...     0   \n",
       "2           2   I thought this movie was going to have an inc...     0   \n",
       "3           3   THERE BEATS ARE DIFFERENT THAN NO LIMITS BUT ...     0   \n",
       "4           4   Tess, a naive and young girl whose one night ...     1   \n",
       "\n",
       "                                               title  \n",
       "0                                OUTSTANDING!!!!!!!!  \n",
       "1     Pamper Baby Dry are more like Pamper baby wet!  \n",
       "2                                Wow, what a letdown  \n",
       "3        CASH MONEY AND NO LIMIT ARE THA SAME THANG!  \n",
       "4  how tess' motherhood experience change her lif...  "
      ]
     },
     "execution_count": 47,
     "metadata": {},
     "output_type": "execute_result"
    }
   ],
   "source": [
    "df_train.loc[df_train.label == 'bad', 'label'] = 0\n",
    "df_train.loc[df_train.label == 'good', 'label'] = 1\n",
    "df_train.head()"
   ]
  },
  {
   "cell_type": "code",
   "execution_count": 48,
   "metadata": {},
   "outputs": [
    {
     "name": "stdout",
     "output_type": "stream",
     "text": [
      "train 9600\n"
     ]
    }
   ],
   "source": [
    "y_train = df_train.label.values\n",
    "y_train = y_train.astype(int)\n",
    "\n",
    "print('train', df_train.shape[0])"
   ]
  },
  {
   "cell_type": "code",
   "execution_count": 49,
   "metadata": {
    "collapsed": true
   },
   "outputs": [],
   "source": [
    "df_train = df_train.astype('U')"
   ]
  },
  {
   "cell_type": "markdown",
   "metadata": {},
   "source": [
    "Подготовка test"
   ]
  },
  {
   "cell_type": "code",
   "execution_count": 50,
   "metadata": {},
   "outputs": [
    {
     "data": {
      "text/html": [
       "<div>\n",
       "<style>\n",
       "    .dataframe thead tr:only-child th {\n",
       "        text-align: right;\n",
       "    }\n",
       "\n",
       "    .dataframe thead th {\n",
       "        text-align: left;\n",
       "    }\n",
       "\n",
       "    .dataframe tbody tr th {\n",
       "        vertical-align: top;\n",
       "    }\n",
       "</style>\n",
       "<table border=\"1\" class=\"dataframe\">\n",
       "  <thead>\n",
       "    <tr style=\"text-align: right;\">\n",
       "      <th></th>\n",
       "      <th>Unnamed: 0</th>\n",
       "      <th>content</th>\n",
       "      <th>label</th>\n",
       "      <th>title</th>\n",
       "    </tr>\n",
       "  </thead>\n",
       "  <tbody>\n",
       "    <tr>\n",
       "      <th>0</th>\n",
       "      <td>0</td>\n",
       "      <td>I saw the video for Galang on BPM and was lau...</td>\n",
       "      <td>1</td>\n",
       "      <td>It'll get in your head ...</td>\n",
       "    </tr>\n",
       "    <tr>\n",
       "      <th>1</th>\n",
       "      <td>1</td>\n",
       "      <td>I hate this printer! It is nothing but proble...</td>\n",
       "      <td>0</td>\n",
       "      <td>Extremely unhappy</td>\n",
       "    </tr>\n",
       "    <tr>\n",
       "      <th>2</th>\n",
       "      <td>2</td>\n",
       "      <td>Theres nothing about this product I don't lik...</td>\n",
       "      <td>1</td>\n",
       "      <td>i got my moneys worth.</td>\n",
       "    </tr>\n",
       "    <tr>\n",
       "      <th>3</th>\n",
       "      <td>3</td>\n",
       "      <td>Story is disjointed and so at times difficult...</td>\n",
       "      <td>0</td>\n",
       "      <td>Anno dracula</td>\n",
       "    </tr>\n",
       "    <tr>\n",
       "      <th>4</th>\n",
       "      <td>4</td>\n",
       "      <td>Christine Feehan does it again, for all of yo...</td>\n",
       "      <td>1</td>\n",
       "      <td>Great Reading</td>\n",
       "    </tr>\n",
       "  </tbody>\n",
       "</table>\n",
       "</div>"
      ],
      "text/plain": [
       "   Unnamed: 0                                            content label  \\\n",
       "0           0   I saw the video for Galang on BPM and was lau...     1   \n",
       "1           1   I hate this printer! It is nothing but proble...     0   \n",
       "2           2   Theres nothing about this product I don't lik...     1   \n",
       "3           3   Story is disjointed and so at times difficult...     0   \n",
       "4           4   Christine Feehan does it again, for all of yo...     1   \n",
       "\n",
       "                        title  \n",
       "0  It'll get in your head ...  \n",
       "1           Extremely unhappy  \n",
       "2      i got my moneys worth.  \n",
       "3                Anno dracula  \n",
       "4               Great Reading  "
      ]
     },
     "execution_count": 50,
     "metadata": {},
     "output_type": "execute_result"
    }
   ],
   "source": [
    "df_test = pd.read_csv('./test.csv')\n",
    "df_test.loc[df_test.label == 'bad', 'label'] = 0\n",
    "df_test.loc[df_test.label == 'good', 'label'] = 1\n",
    "df_test.head()"
   ]
  },
  {
   "cell_type": "code",
   "execution_count": 51,
   "metadata": {},
   "outputs": [
    {
     "name": "stdout",
     "output_type": "stream",
     "text": [
      "test 2401\n"
     ]
    }
   ],
   "source": [
    "y_test = df_test.label.values\n",
    "y_test = y_test.astype(int)\n",
    "print('test', df_test.shape[0])"
   ]
  },
  {
   "cell_type": "code",
   "execution_count": 52,
   "metadata": {},
   "outputs": [
    {
     "data": {
      "text/plain": [
       "0    0.506872\n",
       "1    0.493128\n",
       "Name: label, dtype: float64"
      ]
     },
     "execution_count": 52,
     "metadata": {},
     "output_type": "execute_result"
    }
   ],
   "source": [
    "df_test.label.value_counts(normalize=True)"
   ]
  },
  {
   "cell_type": "code",
   "execution_count": 53,
   "metadata": {},
   "outputs": [
    {
     "data": {
      "text/plain": [
       "0    4916\n",
       "1    4684\n",
       "dtype: int64"
      ]
     },
     "execution_count": 53,
     "metadata": {},
     "output_type": "execute_result"
    }
   ],
   "source": [
    "pd.Series(y_train).value_counts()"
   ]
  },
  {
   "cell_type": "code",
   "execution_count": 54,
   "metadata": {},
   "outputs": [
    {
     "data": {
      "text/plain": [
       "0    1217\n",
       "1    1184\n",
       "dtype: int64"
      ]
     },
     "execution_count": 54,
     "metadata": {},
     "output_type": "execute_result"
    }
   ],
   "source": [
    "pd.Series(y_test).value_counts()"
   ]
  },
  {
   "cell_type": "code",
   "execution_count": 55,
   "metadata": {},
   "outputs": [],
   "source": [
    "df_test = df_test.astype('U')"
   ]
  },
  {
   "cell_type": "markdown",
   "metadata": {},
   "source": [
    "Analysis"
   ]
  },
  {
   "cell_type": "code",
   "execution_count": 78,
   "metadata": {},
   "outputs": [],
   "source": [
    "svc = LinearSVC(C=1,dual=False,\n",
    "     intercept_scaling=1, loss='squared_hinge', max_iter=1000,\n",
    "     multi_class='ovr',tol=0.00001,verbose=0,random_state=SEED)\n",
    "parameters = {'penalty':['l1','l2']}\n",
    "\n",
    "model1 = TfidfVectorizer(analyzer='char', use_idf=True, smooth_idf=True,\n",
    "                                  lowercase=True, \n",
    "                                  stop_words=stopwords.words('english'),\n",
    "                                  min_df=5,\n",
    "                                  ngram_range=(1,4), norm='l2')\n",
    "model2 = GridSearchCV(svc, parameters, cv=5)\n",
    "\n",
    "model = Pipeline([('tfidf', model1), ('est', model2)])"
   ]
  },
  {
   "cell_type": "code",
   "execution_count": 82,
   "metadata": {},
   "outputs": [
    {
     "name": "stdout",
     "output_type": "stream",
     "text": [
      "train 0.968333333333\n"
     ]
    }
   ],
   "source": [
    "model.fit(df_train.content, y_train)\n",
    "print('train', metrics.accuracy_score(y_train, model.predict(df_train.content)))"
   ]
  },
  {
   "cell_type": "code",
   "execution_count": 83,
   "metadata": {},
   "outputs": [
    {
     "name": "stdout",
     "output_type": "stream",
     "text": [
      "test 0.985839233653\n"
     ]
    }
   ],
   "source": [
    "model.fit(df_test.content, y_test)\n",
    "print('test', metrics.accuracy_score(y_test, model.predict(df_test.content)))"
   ]
  },
  {
   "cell_type": "code",
   "execution_count": null,
   "metadata": {
    "collapsed": true
   },
   "outputs": [],
   "source": []
  }
 ],
 "metadata": {
  "kernelspec": {
   "display_name": "Python 3",
   "language": "python",
   "name": "python3"
  },
  "language_info": {
   "codemirror_mode": {
    "name": "ipython",
    "version": 3
   },
   "file_extension": ".py",
   "mimetype": "text/x-python",
   "name": "python",
   "nbconvert_exporter": "python",
   "pygments_lexer": "ipython3",
   "version": "3.6.3"
  }
 },
 "nbformat": 4,
 "nbformat_minor": 2
}
